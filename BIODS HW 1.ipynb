{
 "cells": [
  {
   "cell_type": "code",
   "execution_count": 52,
   "metadata": {},
   "outputs": [],
   "source": [
    "def pascy(rows):\n",
    "    if rows == 1:\n",
    "        print([1])\n",
    "        return [1]\n",
    "    else:\n",
    "        prev_row = pascy(rows-1)\n",
    "        padded_row = [0] + prev_row + [0]\n",
    "        next_row = []\n",
    "        i = 0\n",
    "        while i < len(padded_row) - 1:\n",
    "            new = padded_row[i] + padded_row[i+1]\n",
    "            next_row += [new]\n",
    "            i += 1\n",
    "        print(next_row)\n",
    "        return next_row"
   ]
  },
  {
   "cell_type": "code",
   "execution_count": 55,
   "metadata": {},
   "outputs": [
    {
     "name": "stdout",
     "output_type": "stream",
     "text": [
      "[1]\n",
      "[1, 1]\n",
      "[1, 2, 1]\n",
      "[1, 3, 3, 1]\n"
     ]
    }
   ],
   "source": [
    "r = pascy(4)"
   ]
  }
 ],
 "metadata": {
  "kernelspec": {
   "display_name": "Python 3",
   "language": "python",
   "name": "python3"
  },
  "language_info": {
   "codemirror_mode": {
    "name": "ipython",
    "version": 3
   },
   "file_extension": ".py",
   "mimetype": "text/x-python",
   "name": "python",
   "nbconvert_exporter": "python",
   "pygments_lexer": "ipython3",
   "version": "3.8.5"
  }
 },
 "nbformat": 4,
 "nbformat_minor": 4
}
